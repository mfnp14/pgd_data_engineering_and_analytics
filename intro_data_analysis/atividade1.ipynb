{
 "cells": [
  {
   "cell_type": "markdown",
   "id": "082ac98f",
   "metadata": {},
   "source": [
    "# Atividade 01: Análise de Dados com Pandas e NumPy"
   ]
  },
  {
   "cell_type": "markdown",
   "id": "2903ae23",
   "metadata": {},
   "source": [
    "Aluno: Marcel Pontes  \n",
    "Engenharia e Análise de Dados  \n",
    "CESAR School  \n",
    "26/04/2025"
   ]
  },
  {
   "cell_type": "markdown",
   "id": "2865394a",
   "metadata": {},
   "source": [
    "## Importando o dataset"
   ]
  },
  {
   "cell_type": "code",
   "execution_count": 3,
   "id": "8b072381",
   "metadata": {},
   "outputs": [],
   "source": [
    "from kagglehub import dataset_download"
   ]
  },
  {
   "cell_type": "code",
   "execution_count": 4,
   "id": "2b109812",
   "metadata": {},
   "outputs": [
    {
     "name": "stdout",
     "output_type": "stream",
     "text": [
      "Path to dataset files: /Users/mfnp/.cache/kagglehub/datasets/arpitsinghaiml/youtube-user-by-country-2025/versions/1\n"
     ]
    }
   ],
   "source": [
    "path = dataset_download(\"arpitsinghaiml/youtube-user-by-country-2025\")\n",
    "#df = load_dataset(KaggleDatasetAdapter.PANDAS, \"arpitsinghaiml/youtube-user-by-country-2025\", file_path)\n",
    "print(\"Path to dataset files:\", path)"
   ]
  },
  {
   "cell_type": "code",
   "execution_count": 5,
   "id": "74a60e88",
   "metadata": {},
   "outputs": [],
   "source": [
    "import pandas as pd\n",
    "df = pd.read_csv(path + '/youtube-users-by-country-2025.csv')"
   ]
  },
  {
   "cell_type": "markdown",
   "id": "4515332b",
   "metadata": {},
   "source": [
    "## Descriçao do dataset"
   ]
  },
  {
   "cell_type": "markdown",
   "id": "af669a6e",
   "metadata": {},
   "source": [
    "O dataset estudado reune estatísticas de usuário e de índices de penetração do YouTube em diferentes países para o ano de 2024, incluindo valores de comparação com o ano antecessor.  \n",
    "  \n",
    "Os registros são organizados de forma que cada entrada corresponde as dados de um país enquanto as colunas dão o nome de cada um, a quantidade de usuários total e relativa à população de cada país nos anos de 2024 e 2023."
   ]
  },
  {
   "cell_type": "code",
   "execution_count": 6,
   "id": "9cf647df",
   "metadata": {},
   "outputs": [
    {
     "data": {
      "text/html": [
       "<div>\n",
       "<style scoped>\n",
       "    .dataframe tbody tr th:only-of-type {\n",
       "        vertical-align: middle;\n",
       "    }\n",
       "\n",
       "    .dataframe tbody tr th {\n",
       "        vertical-align: top;\n",
       "    }\n",
       "\n",
       "    .dataframe thead th {\n",
       "        text-align: right;\n",
       "    }\n",
       "</style>\n",
       "<table border=\"1\" class=\"dataframe\">\n",
       "  <thead>\n",
       "    <tr style=\"text-align: right;\">\n",
       "      <th></th>\n",
       "      <th>flagCode</th>\n",
       "      <th>country</th>\n",
       "      <th>YouTubeUsers_TotalUsers_Num_2024Feb</th>\n",
       "      <th>YouTubeUsers_Penetration_Pct_2024Feb</th>\n",
       "      <th>YouTubeUsersJuly2023</th>\n",
       "      <th>YouTubeUsersPenetrationJuly2023</th>\n",
       "    </tr>\n",
       "  </thead>\n",
       "  <tbody>\n",
       "    <tr>\n",
       "      <th>0</th>\n",
       "      <td>IN</td>\n",
       "      <td>India</td>\n",
       "      <td>462000000</td>\n",
       "      <td>61.5</td>\n",
       "      <td>467.0</td>\n",
       "      <td>36.2</td>\n",
       "    </tr>\n",
       "    <tr>\n",
       "      <th>1</th>\n",
       "      <td>US</td>\n",
       "      <td>United States</td>\n",
       "      <td>239000000</td>\n",
       "      <td>72.2</td>\n",
       "      <td>246.0</td>\n",
       "      <td>78.3</td>\n",
       "    </tr>\n",
       "    <tr>\n",
       "      <th>2</th>\n",
       "      <td>BR</td>\n",
       "      <td>Brazil</td>\n",
       "      <td>144000000</td>\n",
       "      <td>76.6</td>\n",
       "      <td>142.0</td>\n",
       "      <td>72.9</td>\n",
       "    </tr>\n",
       "    <tr>\n",
       "      <th>3</th>\n",
       "      <td>ID</td>\n",
       "      <td>Indonesia</td>\n",
       "      <td>139000000</td>\n",
       "      <td>75.0</td>\n",
       "      <td>139.0</td>\n",
       "      <td>55.0</td>\n",
       "    </tr>\n",
       "    <tr>\n",
       "      <th>4</th>\n",
       "      <td>MX</td>\n",
       "      <td>Mexico</td>\n",
       "      <td>83100000</td>\n",
       "      <td>77.5</td>\n",
       "      <td>81.8</td>\n",
       "      <td>71.1</td>\n",
       "    </tr>\n",
       "  </tbody>\n",
       "</table>\n",
       "</div>"
      ],
      "text/plain": [
       "  flagCode        country  YouTubeUsers_TotalUsers_Num_2024Feb  \\\n",
       "0       IN          India                            462000000   \n",
       "1       US  United States                            239000000   \n",
       "2       BR         Brazil                            144000000   \n",
       "3       ID      Indonesia                            139000000   \n",
       "4       MX         Mexico                             83100000   \n",
       "\n",
       "   YouTubeUsers_Penetration_Pct_2024Feb  YouTubeUsersJuly2023  \\\n",
       "0                                  61.5                 467.0   \n",
       "1                                  72.2                 246.0   \n",
       "2                                  76.6                 142.0   \n",
       "3                                  75.0                 139.0   \n",
       "4                                  77.5                  81.8   \n",
       "\n",
       "   YouTubeUsersPenetrationJuly2023  \n",
       "0                             36.2  \n",
       "1                             78.3  \n",
       "2                             72.9  \n",
       "3                             55.0  \n",
       "4                             71.1  "
      ]
     },
     "execution_count": 6,
     "metadata": {},
     "output_type": "execute_result"
    }
   ],
   "source": [
    "df.head()"
   ]
  },
  {
   "cell_type": "code",
   "execution_count": 7,
   "id": "b2d59f16",
   "metadata": {},
   "outputs": [
    {
     "data": {
      "text/html": [
       "<div>\n",
       "<style scoped>\n",
       "    .dataframe tbody tr th:only-of-type {\n",
       "        vertical-align: middle;\n",
       "    }\n",
       "\n",
       "    .dataframe tbody tr th {\n",
       "        vertical-align: top;\n",
       "    }\n",
       "\n",
       "    .dataframe thead th {\n",
       "        text-align: right;\n",
       "    }\n",
       "</style>\n",
       "<table border=\"1\" class=\"dataframe\">\n",
       "  <thead>\n",
       "    <tr style=\"text-align: right;\">\n",
       "      <th></th>\n",
       "      <th>YouTubeUsers_TotalUsers_Num_2024Feb</th>\n",
       "      <th>YouTubeUsers_Penetration_Pct_2024Feb</th>\n",
       "      <th>YouTubeUsersJuly2023</th>\n",
       "      <th>YouTubeUsersPenetrationJuly2023</th>\n",
       "    </tr>\n",
       "  </thead>\n",
       "  <tbody>\n",
       "    <tr>\n",
       "      <th>count</th>\n",
       "      <td>8.700000e+01</td>\n",
       "      <td>87.000000</td>\n",
       "      <td>87.000000</td>\n",
       "      <td>87.000000</td>\n",
       "    </tr>\n",
       "    <tr>\n",
       "      <th>mean</th>\n",
       "      <td>2.821110e+07</td>\n",
       "      <td>75.111494</td>\n",
       "      <td>29.044023</td>\n",
       "      <td>74.678161</td>\n",
       "    </tr>\n",
       "    <tr>\n",
       "      <th>std</th>\n",
       "      <td>5.906624e+07</td>\n",
       "      <td>14.553809</td>\n",
       "      <td>59.831989</td>\n",
       "      <td>18.881481</td>\n",
       "    </tr>\n",
       "    <tr>\n",
       "      <th>min</th>\n",
       "      <td>2.760000e+05</td>\n",
       "      <td>24.500000</td>\n",
       "      <td>0.290000</td>\n",
       "      <td>23.200000</td>\n",
       "    </tr>\n",
       "    <tr>\n",
       "      <th>25%</th>\n",
       "      <td>4.330000e+06</td>\n",
       "      <td>70.600000</td>\n",
       "      <td>4.405000</td>\n",
       "      <td>66.600000</td>\n",
       "    </tr>\n",
       "    <tr>\n",
       "      <th>50%</th>\n",
       "      <td>7.430000e+06</td>\n",
       "      <td>79.200000</td>\n",
       "      <td>7.640000</td>\n",
       "      <td>77.400000</td>\n",
       "    </tr>\n",
       "    <tr>\n",
       "      <th>75%</th>\n",
       "      <td>2.840000e+07</td>\n",
       "      <td>83.400000</td>\n",
       "      <td>31.150000</td>\n",
       "      <td>88.450000</td>\n",
       "    </tr>\n",
       "    <tr>\n",
       "      <th>max</th>\n",
       "      <td>4.620000e+08</td>\n",
       "      <td>98.200000</td>\n",
       "      <td>467.000000</td>\n",
       "      <td>112.300000</td>\n",
       "    </tr>\n",
       "  </tbody>\n",
       "</table>\n",
       "</div>"
      ],
      "text/plain": [
       "       YouTubeUsers_TotalUsers_Num_2024Feb  \\\n",
       "count                         8.700000e+01   \n",
       "mean                          2.821110e+07   \n",
       "std                           5.906624e+07   \n",
       "min                           2.760000e+05   \n",
       "25%                           4.330000e+06   \n",
       "50%                           7.430000e+06   \n",
       "75%                           2.840000e+07   \n",
       "max                           4.620000e+08   \n",
       "\n",
       "       YouTubeUsers_Penetration_Pct_2024Feb  YouTubeUsersJuly2023  \\\n",
       "count                             87.000000             87.000000   \n",
       "mean                              75.111494             29.044023   \n",
       "std                               14.553809             59.831989   \n",
       "min                               24.500000              0.290000   \n",
       "25%                               70.600000              4.405000   \n",
       "50%                               79.200000              7.640000   \n",
       "75%                               83.400000             31.150000   \n",
       "max                               98.200000            467.000000   \n",
       "\n",
       "       YouTubeUsersPenetrationJuly2023  \n",
       "count                        87.000000  \n",
       "mean                         74.678161  \n",
       "std                          18.881481  \n",
       "min                          23.200000  \n",
       "25%                          66.600000  \n",
       "50%                          77.400000  \n",
       "75%                          88.450000  \n",
       "max                         112.300000  "
      ]
     },
     "execution_count": 7,
     "metadata": {},
     "output_type": "execute_result"
    }
   ],
   "source": [
    "df.describe()"
   ]
  },
  {
   "cell_type": "code",
   "execution_count": 8,
   "id": "ce3e28d0",
   "metadata": {},
   "outputs": [
    {
     "name": "stdout",
     "output_type": "stream",
     "text": [
      "<class 'pandas.core.frame.DataFrame'>\n",
      "RangeIndex: 87 entries, 0 to 86\n",
      "Data columns (total 6 columns):\n",
      " #   Column                                Non-Null Count  Dtype  \n",
      "---  ------                                --------------  -----  \n",
      " 0   flagCode                              87 non-null     object \n",
      " 1   country                               87 non-null     object \n",
      " 2   YouTubeUsers_TotalUsers_Num_2024Feb   87 non-null     int64  \n",
      " 3   YouTubeUsers_Penetration_Pct_2024Feb  87 non-null     float64\n",
      " 4   YouTubeUsersJuly2023                  87 non-null     float64\n",
      " 5   YouTubeUsersPenetrationJuly2023       87 non-null     float64\n",
      "dtypes: float64(3), int64(1), object(2)\n",
      "memory usage: 4.2+ KB\n"
     ]
    }
   ],
   "source": [
    "df.info()"
   ]
  },
  {
   "cell_type": "markdown",
   "id": "4979607b",
   "metadata": {},
   "source": [
    "### Primeiros insights derivados do dataset"
   ]
  },
  {
   "cell_type": "markdown",
   "id": "52b281d7",
   "metadata": {},
   "source": [
    "1. Observando a grande disparidade entre os dados das colunas de total de usuários do Youtube por país em 2024 e 2023 e, ao mesmo tempo, a semelhança em alguns dígitos, é possível inferir que as escalas das duas colunas estão diferentes. Enquanto a coluna de 2024 dá o total de usuários em unidades de pessoas, a de 2023 informa em milhões de pessoas.  \n",
    "Com isso, para fazer operações que visem comparar a evolução em um ano, seria importante colocar ambas colunas na mesma escala.  \n",
    "  \n",
    "2. Um dado curioso, é que o valor percentual máximo de usuários do Youtube em 2023 é de 112.3%, o que dificilmente faria sentido, já que o número de usuários não deve ser superior ao total de habitantes, que deve ser usado como base para essa conta.  \n",
    "\n",
    "3. Observando que a contagem de valores não nulos de cada coluna corresponde ao total de linhas, não há valores não preenchidos no dataset estudado."
   ]
  },
  {
   "cell_type": "markdown",
   "id": "8838a3c2",
   "metadata": {},
   "source": [
    "## Criar a coluna categórica \"Continent\""
   ]
  },
  {
   "cell_type": "code",
   "execution_count": 9,
   "id": "35ef33b1",
   "metadata": {},
   "outputs": [],
   "source": [
    "import pycountry_convert as pc\n",
    "\n",
    "def country_code_to_continent(row):\n",
    "    country_code = row['flagCode']\n",
    "    try:\n",
    "        #country_code = pc.country_name_to_country_alpha2(country_name, cn_name_format=\"default\")\n",
    "        continent_code = pc.country_alpha2_to_continent_code(country_code)\n",
    "        continent_name = pc.convert_continent_code_to_continent_name(continent_code)\n",
    "        return continent_name\n",
    "    except KeyError:\n",
    "        return \"Country code not found\""
   ]
  },
  {
   "cell_type": "code",
   "execution_count": 10,
   "id": "e1971d63",
   "metadata": {},
   "outputs": [
    {
     "name": "stdout",
     "output_type": "stream",
     "text": [
      "0              Asia\n",
      "1     North America\n",
      "2     South America\n",
      "3              Asia\n",
      "4     North America\n",
      "          ...      \n",
      "82           Europe\n",
      "83           Europe\n",
      "84             Asia\n",
      "85           Europe\n",
      "86           Europe\n",
      "Name: continent, Length: 87, dtype: object\n"
     ]
    }
   ],
   "source": [
    "df['continent'] = df.apply(country_code_to_continent, axis=1)\n",
    "print(df['continent'])"
   ]
  },
  {
   "cell_type": "markdown",
   "id": "af49b653",
   "metadata": {},
   "source": [
    "### Reordenando as colunas"
   ]
  },
  {
   "cell_type": "code",
   "execution_count": 11,
   "id": "b93a9edf",
   "metadata": {},
   "outputs": [
    {
     "name": "stdout",
     "output_type": "stream",
     "text": [
      "['flagCode', 'country', 'continent', 'YouTubeUsers_TotalUsers_Num_2024Feb', 'YouTubeUsers_Penetration_Pct_2024Feb', 'YouTubeUsersJuly2023', 'YouTubeUsersPenetrationJuly2023']\n"
     ]
    }
   ],
   "source": [
    "column_list = df.columns.to_list()\n",
    "column_list.remove('continent')\n",
    "column_list.insert(2, 'continent')\n",
    "print(column_list)"
   ]
  },
  {
   "cell_type": "code",
   "execution_count": 12,
   "id": "002dc921",
   "metadata": {},
   "outputs": [
    {
     "data": {
      "text/html": [
       "<div>\n",
       "<style scoped>\n",
       "    .dataframe tbody tr th:only-of-type {\n",
       "        vertical-align: middle;\n",
       "    }\n",
       "\n",
       "    .dataframe tbody tr th {\n",
       "        vertical-align: top;\n",
       "    }\n",
       "\n",
       "    .dataframe thead th {\n",
       "        text-align: right;\n",
       "    }\n",
       "</style>\n",
       "<table border=\"1\" class=\"dataframe\">\n",
       "  <thead>\n",
       "    <tr style=\"text-align: right;\">\n",
       "      <th></th>\n",
       "      <th>flagCode</th>\n",
       "      <th>country</th>\n",
       "      <th>continent</th>\n",
       "      <th>YouTubeUsers_TotalUsers_Num_2024Feb</th>\n",
       "      <th>YouTubeUsers_Penetration_Pct_2024Feb</th>\n",
       "      <th>YouTubeUsersJuly2023</th>\n",
       "      <th>YouTubeUsersPenetrationJuly2023</th>\n",
       "    </tr>\n",
       "  </thead>\n",
       "  <tbody>\n",
       "    <tr>\n",
       "      <th>0</th>\n",
       "      <td>IN</td>\n",
       "      <td>India</td>\n",
       "      <td>Asia</td>\n",
       "      <td>462000000</td>\n",
       "      <td>61.5</td>\n",
       "      <td>467.0</td>\n",
       "      <td>36.2</td>\n",
       "    </tr>\n",
       "    <tr>\n",
       "      <th>1</th>\n",
       "      <td>US</td>\n",
       "      <td>United States</td>\n",
       "      <td>North America</td>\n",
       "      <td>239000000</td>\n",
       "      <td>72.2</td>\n",
       "      <td>246.0</td>\n",
       "      <td>78.3</td>\n",
       "    </tr>\n",
       "    <tr>\n",
       "      <th>2</th>\n",
       "      <td>BR</td>\n",
       "      <td>Brazil</td>\n",
       "      <td>South America</td>\n",
       "      <td>144000000</td>\n",
       "      <td>76.6</td>\n",
       "      <td>142.0</td>\n",
       "      <td>72.9</td>\n",
       "    </tr>\n",
       "    <tr>\n",
       "      <th>3</th>\n",
       "      <td>ID</td>\n",
       "      <td>Indonesia</td>\n",
       "      <td>Asia</td>\n",
       "      <td>139000000</td>\n",
       "      <td>75.0</td>\n",
       "      <td>139.0</td>\n",
       "      <td>55.0</td>\n",
       "    </tr>\n",
       "    <tr>\n",
       "      <th>4</th>\n",
       "      <td>MX</td>\n",
       "      <td>Mexico</td>\n",
       "      <td>North America</td>\n",
       "      <td>83100000</td>\n",
       "      <td>77.5</td>\n",
       "      <td>81.8</td>\n",
       "      <td>71.1</td>\n",
       "    </tr>\n",
       "  </tbody>\n",
       "</table>\n",
       "</div>"
      ],
      "text/plain": [
       "  flagCode        country      continent  YouTubeUsers_TotalUsers_Num_2024Feb  \\\n",
       "0       IN          India           Asia                            462000000   \n",
       "1       US  United States  North America                            239000000   \n",
       "2       BR         Brazil  South America                            144000000   \n",
       "3       ID      Indonesia           Asia                            139000000   \n",
       "4       MX         Mexico  North America                             83100000   \n",
       "\n",
       "   YouTubeUsers_Penetration_Pct_2024Feb  YouTubeUsersJuly2023  \\\n",
       "0                                  61.5                 467.0   \n",
       "1                                  72.2                 246.0   \n",
       "2                                  76.6                 142.0   \n",
       "3                                  75.0                 139.0   \n",
       "4                                  77.5                  81.8   \n",
       "\n",
       "   YouTubeUsersPenetrationJuly2023  \n",
       "0                             36.2  \n",
       "1                             78.3  \n",
       "2                             72.9  \n",
       "3                             55.0  \n",
       "4                             71.1  "
      ]
     },
     "execution_count": 12,
     "metadata": {},
     "output_type": "execute_result"
    }
   ],
   "source": [
    "df = df[column_list]\n",
    "df.head()"
   ]
  },
  {
   "cell_type": "code",
   "execution_count": 13,
   "id": "d3fcaecc",
   "metadata": {},
   "outputs": [
    {
     "name": "stdout",
     "output_type": "stream",
     "text": [
      "Numero de países em cada continentes do dataset:  continent\n",
      "Europe           31\n",
      "Asia             25\n",
      "North America    11\n",
      "South America     9\n",
      "Africa            9\n",
      "Oceania           2\n",
      "Name: count, dtype: int64\n",
      "Lista de continentes registrados no dataset:  ['Asia' 'North America' 'South America' 'Europe' 'Africa' 'Oceania']\n"
     ]
    }
   ],
   "source": [
    "print('Numero de países em cada continentes do dataset: ', df['continent'].value_counts())\n",
    "print('Lista de continentes registrados no dataset: ', df['continent'].unique())"
   ]
  },
  {
   "cell_type": "markdown",
   "id": "ef349829",
   "metadata": {},
   "source": [
    "## Obtendo estatísticas agregadas e fazendo ordenação"
   ]
  },
  {
   "cell_type": "code",
   "execution_count": 14,
   "id": "5b757c20",
   "metadata": {},
   "outputs": [
    {
     "name": "stdout",
     "output_type": "stream",
     "text": [
      "Dimensões do dataframe com penetração superior a 100% filtrada (83, 7)\n"
     ]
    }
   ],
   "source": [
    "filtered_df = df[df['YouTubeUsersPenetrationJuly2023'] < 100]\n",
    "print(\"Dimensões do dataframe com penetração superior a 100% filtrada\", filtered_df.shape)"
   ]
  },
  {
   "cell_type": "markdown",
   "id": "837e3c02",
   "metadata": {},
   "source": [
    "### Colocando o número de usuários em 2023 na mesma escala que o número de 2024"
   ]
  },
  {
   "cell_type": "code",
   "execution_count": 15,
   "id": "c1b9a34b",
   "metadata": {},
   "outputs": [],
   "source": [
    "filtered_df.loc[:,'YouTubeUsersJuly2023'] *= 10 ** 6"
   ]
  },
  {
   "cell_type": "markdown",
   "id": "ecb0dad5",
   "metadata": {},
   "source": [
    "### Encontrando as poulações dos países através das outra colunas"
   ]
  },
  {
   "cell_type": "code",
   "execution_count": 16,
   "id": "dc7b68b0",
   "metadata": {},
   "outputs": [
    {
     "name": "stderr",
     "output_type": "stream",
     "text": [
      "/var/folders/y8/rfm38z_x3693zpsbvthdb2bw0000gp/T/ipykernel_59745/3033998490.py:1: SettingWithCopyWarning: \n",
      "A value is trying to be set on a copy of a slice from a DataFrame.\n",
      "Try using .loc[row_indexer,col_indexer] = value instead\n",
      "\n",
      "See the caveats in the documentation: https://pandas.pydata.org/pandas-docs/stable/user_guide/indexing.html#returning-a-view-versus-a-copy\n",
      "  filtered_df.loc[:,'Population2024'] = filtered_df['YouTubeUsers_TotalUsers_Num_2024Feb'] / filtered_df['YouTubeUsers_Penetration_Pct_2024Feb']\n",
      "/var/folders/y8/rfm38z_x3693zpsbvthdb2bw0000gp/T/ipykernel_59745/3033998490.py:2: SettingWithCopyWarning: \n",
      "A value is trying to be set on a copy of a slice from a DataFrame.\n",
      "Try using .loc[row_indexer,col_indexer] = value instead\n",
      "\n",
      "See the caveats in the documentation: https://pandas.pydata.org/pandas-docs/stable/user_guide/indexing.html#returning-a-view-versus-a-copy\n",
      "  filtered_df.loc[:,'Population2023'] = filtered_df['YouTubeUsersJuly2023'] / filtered_df['YouTubeUsersPenetrationJuly2023']\n"
     ]
    }
   ],
   "source": [
    "filtered_df.loc[:,'Population2024'] = filtered_df['YouTubeUsers_TotalUsers_Num_2024Feb'] / filtered_df['YouTubeUsers_Penetration_Pct_2024Feb']\n",
    "filtered_df.loc[:,'Population2023'] = filtered_df['YouTubeUsersJuly2023'] / filtered_df['YouTubeUsersPenetrationJuly2023']"
   ]
  },
  {
   "cell_type": "code",
   "execution_count": 17,
   "id": "a6cf3f17",
   "metadata": {},
   "outputs": [
    {
     "data": {
      "text/html": [
       "<div>\n",
       "<style scoped>\n",
       "    .dataframe tbody tr th:only-of-type {\n",
       "        vertical-align: middle;\n",
       "    }\n",
       "\n",
       "    .dataframe tbody tr th {\n",
       "        vertical-align: top;\n",
       "    }\n",
       "\n",
       "    .dataframe thead th {\n",
       "        text-align: right;\n",
       "    }\n",
       "</style>\n",
       "<table border=\"1\" class=\"dataframe\">\n",
       "  <thead>\n",
       "    <tr style=\"text-align: right;\">\n",
       "      <th></th>\n",
       "      <th>country</th>\n",
       "      <th>continent</th>\n",
       "      <th>Population2024</th>\n",
       "      <th>Population2023</th>\n",
       "    </tr>\n",
       "  </thead>\n",
       "  <tbody>\n",
       "    <tr>\n",
       "      <th>0</th>\n",
       "      <td>India</td>\n",
       "      <td>Asia</td>\n",
       "      <td>7.512195e+06</td>\n",
       "      <td>1.290055e+07</td>\n",
       "    </tr>\n",
       "    <tr>\n",
       "      <th>1</th>\n",
       "      <td>United States</td>\n",
       "      <td>North America</td>\n",
       "      <td>3.310249e+06</td>\n",
       "      <td>3.141762e+06</td>\n",
       "    </tr>\n",
       "    <tr>\n",
       "      <th>2</th>\n",
       "      <td>Brazil</td>\n",
       "      <td>South America</td>\n",
       "      <td>1.879896e+06</td>\n",
       "      <td>1.947874e+06</td>\n",
       "    </tr>\n",
       "    <tr>\n",
       "      <th>3</th>\n",
       "      <td>Indonesia</td>\n",
       "      <td>Asia</td>\n",
       "      <td>1.853333e+06</td>\n",
       "      <td>2.527273e+06</td>\n",
       "    </tr>\n",
       "    <tr>\n",
       "      <th>4</th>\n",
       "      <td>Mexico</td>\n",
       "      <td>North America</td>\n",
       "      <td>1.072258e+06</td>\n",
       "      <td>1.150492e+06</td>\n",
       "    </tr>\n",
       "  </tbody>\n",
       "</table>\n",
       "</div>"
      ],
      "text/plain": [
       "         country      continent  Population2024  Population2023\n",
       "0          India           Asia    7.512195e+06    1.290055e+07\n",
       "1  United States  North America    3.310249e+06    3.141762e+06\n",
       "2         Brazil  South America    1.879896e+06    1.947874e+06\n",
       "3      Indonesia           Asia    1.853333e+06    2.527273e+06\n",
       "4         Mexico  North America    1.072258e+06    1.150492e+06"
      ]
     },
     "execution_count": 17,
     "metadata": {},
     "output_type": "execute_result"
    }
   ],
   "source": [
    "filtered_df[['country','continent','Population2024','Population2023']].head()"
   ]
  },
  {
   "cell_type": "code",
   "execution_count": 18,
   "id": "d367a726",
   "metadata": {},
   "outputs": [
    {
     "data": {
      "text/html": [
       "<div>\n",
       "<style scoped>\n",
       "    .dataframe tbody tr th:only-of-type {\n",
       "        vertical-align: middle;\n",
       "    }\n",
       "\n",
       "    .dataframe tbody tr th {\n",
       "        vertical-align: top;\n",
       "    }\n",
       "\n",
       "    .dataframe thead th {\n",
       "        text-align: right;\n",
       "    }\n",
       "</style>\n",
       "<table border=\"1\" class=\"dataframe\">\n",
       "  <thead>\n",
       "    <tr style=\"text-align: right;\">\n",
       "      <th></th>\n",
       "      <th>country</th>\n",
       "      <th>continent</th>\n",
       "      <th>Population2024</th>\n",
       "      <th>Population2023</th>\n",
       "    </tr>\n",
       "  </thead>\n",
       "  <tbody>\n",
       "    <tr>\n",
       "      <th>0</th>\n",
       "      <td>India</td>\n",
       "      <td>Asia</td>\n",
       "      <td>7.512195e+06</td>\n",
       "      <td>1.290055e+07</td>\n",
       "    </tr>\n",
       "    <tr>\n",
       "      <th>1</th>\n",
       "      <td>United States</td>\n",
       "      <td>North America</td>\n",
       "      <td>3.310249e+06</td>\n",
       "      <td>3.141762e+06</td>\n",
       "    </tr>\n",
       "    <tr>\n",
       "      <th>2</th>\n",
       "      <td>Brazil</td>\n",
       "      <td>South America</td>\n",
       "      <td>1.879896e+06</td>\n",
       "      <td>1.947874e+06</td>\n",
       "    </tr>\n",
       "    <tr>\n",
       "      <th>3</th>\n",
       "      <td>Indonesia</td>\n",
       "      <td>Asia</td>\n",
       "      <td>1.853333e+06</td>\n",
       "      <td>2.527273e+06</td>\n",
       "    </tr>\n",
       "    <tr>\n",
       "      <th>6</th>\n",
       "      <td>Pakistan</td>\n",
       "      <td>Asia</td>\n",
       "      <td>1.109907e+06</td>\n",
       "      <td>1.843188e+06</td>\n",
       "    </tr>\n",
       "    <tr>\n",
       "      <th>...</th>\n",
       "      <td>...</td>\n",
       "      <td>...</td>\n",
       "      <td>...</td>\n",
       "      <td>...</td>\n",
       "    </tr>\n",
       "    <tr>\n",
       "      <th>81</th>\n",
       "      <td>Lithuania</td>\n",
       "      <td>Europe</td>\n",
       "      <td>2.408257e+04</td>\n",
       "      <td>2.572816e+04</td>\n",
       "    </tr>\n",
       "    <tr>\n",
       "      <th>82</th>\n",
       "      <td>Slovenia</td>\n",
       "      <td>Europe</td>\n",
       "      <td>1.947431e+04</td>\n",
       "      <td>1.975904e+04</td>\n",
       "    </tr>\n",
       "    <tr>\n",
       "      <th>83</th>\n",
       "      <td>Latvia</td>\n",
       "      <td>Europe</td>\n",
       "      <td>1.691773e+04</td>\n",
       "      <td>1.709007e+04</td>\n",
       "    </tr>\n",
       "    <tr>\n",
       "      <th>85</th>\n",
       "      <td>Estonia</td>\n",
       "      <td>Europe</td>\n",
       "      <td>1.238095e+04</td>\n",
       "      <td>1.225659e+04</td>\n",
       "    </tr>\n",
       "    <tr>\n",
       "      <th>86</th>\n",
       "      <td>Iceland</td>\n",
       "      <td>Europe</td>\n",
       "      <td>3.729730e+03</td>\n",
       "      <td>3.280543e+03</td>\n",
       "    </tr>\n",
       "  </tbody>\n",
       "</table>\n",
       "<p>83 rows × 4 columns</p>\n",
       "</div>"
      ],
      "text/plain": [
       "          country      continent  Population2024  Population2023\n",
       "0           India           Asia    7.512195e+06    1.290055e+07\n",
       "1   United States  North America    3.310249e+06    3.141762e+06\n",
       "2          Brazil  South America    1.879896e+06    1.947874e+06\n",
       "3       Indonesia           Asia    1.853333e+06    2.527273e+06\n",
       "6        Pakistan           Asia    1.109907e+06    1.843188e+06\n",
       "..            ...            ...             ...             ...\n",
       "81      Lithuania         Europe    2.408257e+04    2.572816e+04\n",
       "82       Slovenia         Europe    1.947431e+04    1.975904e+04\n",
       "83         Latvia         Europe    1.691773e+04    1.709007e+04\n",
       "85        Estonia         Europe    1.238095e+04    1.225659e+04\n",
       "86        Iceland         Europe    3.729730e+03    3.280543e+03\n",
       "\n",
       "[83 rows x 4 columns]"
      ]
     },
     "execution_count": 18,
     "metadata": {},
     "output_type": "execute_result"
    }
   ],
   "source": [
    "filtered_df.iloc[:,[1,2,-2,-1]].sort_values(by=['Population2024'], ascending=False)"
   ]
  },
  {
   "cell_type": "markdown",
   "id": "284f28bf",
   "metadata": {},
   "source": [
    "### Agrupando valores de população e pessoas por usuários por continente"
   ]
  },
  {
   "cell_type": "code",
   "execution_count": 19,
   "id": "38498969",
   "metadata": {},
   "outputs": [
    {
     "data": {
      "text/html": [
       "<div>\n",
       "<style scoped>\n",
       "    .dataframe tbody tr th:only-of-type {\n",
       "        vertical-align: middle;\n",
       "    }\n",
       "\n",
       "    .dataframe tbody tr th {\n",
       "        vertical-align: top;\n",
       "    }\n",
       "\n",
       "    .dataframe thead th {\n",
       "        text-align: right;\n",
       "    }\n",
       "</style>\n",
       "<table border=\"1\" class=\"dataframe\">\n",
       "  <thead>\n",
       "    <tr style=\"text-align: right;\">\n",
       "      <th></th>\n",
       "      <th>YouTubeUsers_TotalUsers_Num_2024Feb</th>\n",
       "      <th>YouTubeUsersJuly2023</th>\n",
       "      <th>Population2024</th>\n",
       "      <th>Population2023</th>\n",
       "    </tr>\n",
       "    <tr>\n",
       "      <th>continent</th>\n",
       "      <th></th>\n",
       "      <th></th>\n",
       "      <th></th>\n",
       "      <th></th>\n",
       "    </tr>\n",
       "  </thead>\n",
       "  <tbody>\n",
       "    <tr>\n",
       "      <th>Africa</th>\n",
       "      <td>169790000</td>\n",
       "      <td>1.746100e+08</td>\n",
       "      <td>3.656435e+06</td>\n",
       "      <td>4.074084e+06</td>\n",
       "    </tr>\n",
       "    <tr>\n",
       "      <th>Asia</th>\n",
       "      <td>1154050000</td>\n",
       "      <td>1.201600e+09</td>\n",
       "      <td>1.769151e+07</td>\n",
       "      <td>2.551568e+07</td>\n",
       "    </tr>\n",
       "    <tr>\n",
       "      <th>Europe</th>\n",
       "      <td>442546000</td>\n",
       "      <td>4.545900e+08</td>\n",
       "      <td>5.312053e+06</td>\n",
       "      <td>5.393855e+06</td>\n",
       "    </tr>\n",
       "    <tr>\n",
       "      <th>North America</th>\n",
       "      <td>388150000</td>\n",
       "      <td>3.953300e+08</td>\n",
       "      <td>5.232492e+06</td>\n",
       "      <td>5.210512e+06</td>\n",
       "    </tr>\n",
       "    <tr>\n",
       "      <th>Oceania</th>\n",
       "      <td>24930000</td>\n",
       "      <td>2.554000e+07</td>\n",
       "      <td>3.023645e+05</td>\n",
       "      <td>2.926831e+05</td>\n",
       "    </tr>\n",
       "    <tr>\n",
       "      <th>South America</th>\n",
       "      <td>262390000</td>\n",
       "      <td>2.620000e+08</td>\n",
       "      <td>3.448688e+06</td>\n",
       "      <td>3.667876e+06</td>\n",
       "    </tr>\n",
       "  </tbody>\n",
       "</table>\n",
       "</div>"
      ],
      "text/plain": [
       "               YouTubeUsers_TotalUsers_Num_2024Feb  YouTubeUsersJuly2023  \\\n",
       "continent                                                                  \n",
       "Africa                                   169790000          1.746100e+08   \n",
       "Asia                                    1154050000          1.201600e+09   \n",
       "Europe                                   442546000          4.545900e+08   \n",
       "North America                            388150000          3.953300e+08   \n",
       "Oceania                                   24930000          2.554000e+07   \n",
       "South America                            262390000          2.620000e+08   \n",
       "\n",
       "               Population2024  Population2023  \n",
       "continent                                      \n",
       "Africa           3.656435e+06    4.074084e+06  \n",
       "Asia             1.769151e+07    2.551568e+07  \n",
       "Europe           5.312053e+06    5.393855e+06  \n",
       "North America    5.232492e+06    5.210512e+06  \n",
       "Oceania          3.023645e+05    2.926831e+05  \n",
       "South America    3.448688e+06    3.667876e+06  "
      ]
     },
     "execution_count": 19,
     "metadata": {},
     "output_type": "execute_result"
    }
   ],
   "source": [
    "aggregate_df = filtered_df.iloc[:,[2,3,5,-2,-1]].groupby('continent').sum()\n",
    "aggregate_df"
   ]
  },
  {
   "cell_type": "code",
   "execution_count": 20,
   "id": "88766bf0",
   "metadata": {},
   "outputs": [],
   "source": [
    "aggregate_df.loc[:,'yt_penetration_2024'] = aggregate_df['YouTubeUsers_TotalUsers_Num_2024Feb'] / aggregate_df['Population2024']\n",
    "aggregate_df.loc[:,'yt_penetration_2023'] = aggregate_df['YouTubeUsersJuly2023'] / aggregate_df['Population2023']"
   ]
  },
  {
   "cell_type": "code",
   "execution_count": 21,
   "id": "462f655c",
   "metadata": {},
   "outputs": [
    {
     "data": {
      "text/plain": [
       "<matplotlib.legend.Legend at 0x11c475700>"
      ]
     },
     "execution_count": 21,
     "metadata": {},
     "output_type": "execute_result"
    },
    {
     "data": {
      "image/png": "[encoded data removed]",
      "text/plain": [
       "<Figure size 640x480 with 1 Axes>"
      ]
     },
     "metadata": {},
     "output_type": "display_data"
    }
   ],
   "source": [
    "import matplotlib.pyplot as plt\n",
    "\n",
    "for continent in aggregate_df.index:\n",
    "    plt.plot([2023, 2024], aggregate_df.loc[continent,['yt_penetration_2023', 'yt_penetration_2024']])\n",
    "\n",
    "plt.xlabel('Year')\n",
    "plt.ylabel('Penetration rate')\n",
    "plt.title('Youtube penetration rate variation by continent')\n",
    "plt.xticks([2023, 2024], [2023, 2024])\n",
    "plt.legend(aggregate_df.index)"
   ]
  },
  {
   "cell_type": "markdown",
   "id": "89a4e19b",
   "metadata": {},
   "source": [
    "# Insights finais\n",
    "\n",
    "A avaliação da taxa de penetração de usuários na população de cada continente permitiu observar que\n",
    "- Na Europa, o percentual de usuários se manteve bem estável de um ano para o outro;\n",
    "- Na América do Norte e na Oceania, houve um leve declínio no uso da plataforma, mas é possível que haja imprecisão nos valores usados no cálculo;\n",
    "- Houve subida da taxa na Ásia e na América do Sul; porém, naquela o aumento foi bastante significativo, de forma que poderia ser interessante buscar motivações geopolíticas que expliquem a variação;\n",
    "- A África, onde se concentram países com baixos níveis de IDH, é o continente com o percentual mais baixo de usuários da avaliação, o que pode ser causado por um nível inferior de acesso à internet por parte da população. "
   ]
  }
 ],
 "metadata": {
  "kernelspec": {
   "display_name": "pgd_venv",
   "language": "python",
   "name": "python3"
  },
  "language_info": {
   "codemirror_mode": {
    "name": "ipython",
    "version": 3
   },
   "file_extension": ".py",
   "mimetype": "text/x-python",
   "name": "python",
   "nbconvert_exporter": "python",
   "pygments_lexer": "ipython3",
   "version": "3.9.6"
  }
 },
 "nbformat": 4,
 "nbformat_minor": 5
}
