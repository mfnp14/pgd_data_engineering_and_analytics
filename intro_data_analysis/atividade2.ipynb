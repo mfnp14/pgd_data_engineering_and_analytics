{
 "cells": [
  {
   "cell_type": "markdown",
   "id": "09f50d44",
   "metadata": {},
   "source": [
    "# Atividade 02: Tratamento e Preparação dos Dados - Preços dos Carros no Brasil"
   ]
  },
  {
   "cell_type": "markdown",
   "id": "60e59de8",
   "metadata": {},
   "source": [
    "Aluno: Marcel Pontes  \n",
    "Engenharia e Análise de Dados  \n",
    "CESAR School  \n",
    "11/05/2025"
   ]
  },
  {
   "cell_type": "markdown",
   "id": "1eb84aa8",
   "metadata": {},
   "source": [
    "## Parte 1"
   ]
  },
  {
   "cell_type": "markdown",
   "id": "f90ff2d6",
   "metadata": {},
   "source": [
    "\n",
    "### Importando o dataset"
   ]
  },
  {
   "cell_type": "code",
   "execution_count": 2,
   "id": "aad29d9b",
   "metadata": {},
   "outputs": [
    {
     "name": "stderr",
     "output_type": "stream",
     "text": [
      "/var/folders/y8/rfm38z_x3693zpsbvthdb2bw0000gp/T/ipykernel_63816/4150979060.py:2: DtypeWarning: Columns (1,2,3,4,5,6,7,8) have mixed types. Specify dtype option on import or set low_memory=False.\n",
      "  df = pd.read_csv(\"precos_carros_brasil.csv\")\n"
     ]
    }
   ],
   "source": [
    "import pandas as pd\n",
    "df = pd.read_csv(\"precos_carros_brasil.csv\")"
   ]
  },
  {
   "cell_type": "code",
   "execution_count": 3,
   "id": "3e2f3435",
   "metadata": {},
   "outputs": [
    {
     "data": {
      "text/html": [
       "<div>\n",
       "<style scoped>\n",
       "    .dataframe tbody tr th:only-of-type {\n",
       "        vertical-align: middle;\n",
       "    }\n",
       "\n",
       "    .dataframe tbody tr th {\n",
       "        vertical-align: top;\n",
       "    }\n",
       "\n",
       "    .dataframe thead th {\n",
       "        text-align: right;\n",
       "    }\n",
       "</style>\n",
       "<table border=\"1\" class=\"dataframe\">\n",
       "  <thead>\n",
       "    <tr style=\"text-align: right;\">\n",
       "      <th></th>\n",
       "      <th>year_of_reference</th>\n",
       "      <th>month_of_reference</th>\n",
       "      <th>fipe_code</th>\n",
       "      <th>authentication</th>\n",
       "      <th>brand</th>\n",
       "      <th>model</th>\n",
       "      <th>fuel</th>\n",
       "      <th>gear</th>\n",
       "      <th>engine_size</th>\n",
       "      <th>year_model</th>\n",
       "      <th>avg_price_brl</th>\n",
       "    </tr>\n",
       "  </thead>\n",
       "  <tbody>\n",
       "    <tr>\n",
       "      <th>0</th>\n",
       "      <td>2021.0</td>\n",
       "      <td>January</td>\n",
       "      <td>004001-0</td>\n",
       "      <td>cfzlctzfwrcp</td>\n",
       "      <td>GM - Chevrolet</td>\n",
       "      <td>Corsa Wind 1.0 MPFI / EFI 2p</td>\n",
       "      <td>Gasoline</td>\n",
       "      <td>manual</td>\n",
       "      <td>1</td>\n",
       "      <td>2002.0</td>\n",
       "      <td>9162.0</td>\n",
       "    </tr>\n",
       "    <tr>\n",
       "      <th>1</th>\n",
       "      <td>2021.0</td>\n",
       "      <td>January</td>\n",
       "      <td>004001-0</td>\n",
       "      <td>cdqwxwpw3y2p</td>\n",
       "      <td>GM - Chevrolet</td>\n",
       "      <td>Corsa Wind 1.0 MPFI / EFI 2p</td>\n",
       "      <td>Gasoline</td>\n",
       "      <td>manual</td>\n",
       "      <td>1</td>\n",
       "      <td>2001.0</td>\n",
       "      <td>8832.0</td>\n",
       "    </tr>\n",
       "    <tr>\n",
       "      <th>2</th>\n",
       "      <td>2021.0</td>\n",
       "      <td>January</td>\n",
       "      <td>004001-0</td>\n",
       "      <td>cb1t3xwwj1xp</td>\n",
       "      <td>GM - Chevrolet</td>\n",
       "      <td>Corsa Wind 1.0 MPFI / EFI 2p</td>\n",
       "      <td>Gasoline</td>\n",
       "      <td>manual</td>\n",
       "      <td>1</td>\n",
       "      <td>2000.0</td>\n",
       "      <td>8388.0</td>\n",
       "    </tr>\n",
       "    <tr>\n",
       "      <th>3</th>\n",
       "      <td>2021.0</td>\n",
       "      <td>January</td>\n",
       "      <td>004001-0</td>\n",
       "      <td>cb9gct6j65r0</td>\n",
       "      <td>GM - Chevrolet</td>\n",
       "      <td>Corsa Wind 1.0 MPFI / EFI 2p</td>\n",
       "      <td>Alcohol</td>\n",
       "      <td>manual</td>\n",
       "      <td>1</td>\n",
       "      <td>2000.0</td>\n",
       "      <td>8453.0</td>\n",
       "    </tr>\n",
       "    <tr>\n",
       "      <th>4</th>\n",
       "      <td>2021.0</td>\n",
       "      <td>January</td>\n",
       "      <td>004003-7</td>\n",
       "      <td>g15wg0gbz1fx</td>\n",
       "      <td>GM - Chevrolet</td>\n",
       "      <td>Corsa Pick-Up GL/ Champ 1.6 MPFI / EFI</td>\n",
       "      <td>Gasoline</td>\n",
       "      <td>manual</td>\n",
       "      <td>1,6</td>\n",
       "      <td>2001.0</td>\n",
       "      <td>12525.0</td>\n",
       "    </tr>\n",
       "  </tbody>\n",
       "</table>\n",
       "</div>"
      ],
      "text/plain": [
       "   year_of_reference month_of_reference fipe_code authentication  \\\n",
       "0             2021.0            January  004001-0   cfzlctzfwrcp   \n",
       "1             2021.0            January  004001-0   cdqwxwpw3y2p   \n",
       "2             2021.0            January  004001-0   cb1t3xwwj1xp   \n",
       "3             2021.0            January  004001-0   cb9gct6j65r0   \n",
       "4             2021.0            January  004003-7   g15wg0gbz1fx   \n",
       "\n",
       "            brand                                   model      fuel    gear  \\\n",
       "0  GM - Chevrolet            Corsa Wind 1.0 MPFI / EFI 2p  Gasoline  manual   \n",
       "1  GM - Chevrolet            Corsa Wind 1.0 MPFI / EFI 2p  Gasoline  manual   \n",
       "2  GM - Chevrolet            Corsa Wind 1.0 MPFI / EFI 2p  Gasoline  manual   \n",
       "3  GM - Chevrolet            Corsa Wind 1.0 MPFI / EFI 2p   Alcohol  manual   \n",
       "4  GM - Chevrolet  Corsa Pick-Up GL/ Champ 1.6 MPFI / EFI  Gasoline  manual   \n",
       "\n",
       "  engine_size  year_model  avg_price_brl  \n",
       "0           1      2002.0         9162.0  \n",
       "1           1      2001.0         8832.0  \n",
       "2           1      2000.0         8388.0  \n",
       "3           1      2000.0         8453.0  \n",
       "4         1,6      2001.0        12525.0  "
      ]
     },
     "execution_count": 3,
     "metadata": {},
     "output_type": "execute_result"
    }
   ],
   "source": [
    "df.head()"
   ]
  },
  {
   "cell_type": "code",
   "execution_count": 4,
   "id": "1fd3e145",
   "metadata": {},
   "outputs": [
    {
     "name": "stdout",
     "output_type": "stream",
     "text": [
      "<class 'pandas.core.frame.DataFrame'>\n",
      "RangeIndex: 267542 entries, 0 to 267541\n",
      "Data columns (total 11 columns):\n",
      " #   Column              Non-Null Count   Dtype  \n",
      "---  ------              --------------   -----  \n",
      " 0   year_of_reference   202297 non-null  float64\n",
      " 1   month_of_reference  202297 non-null  object \n",
      " 2   fipe_code           202297 non-null  object \n",
      " 3   authentication      202297 non-null  object \n",
      " 4   brand               202297 non-null  object \n",
      " 5   model               202297 non-null  object \n",
      " 6   fuel                202297 non-null  object \n",
      " 7   gear                202297 non-null  object \n",
      " 8   engine_size         202297 non-null  object \n",
      " 9   year_model          202297 non-null  float64\n",
      " 10  avg_price_brl       202297 non-null  float64\n",
      "dtypes: float64(3), object(8)\n",
      "memory usage: 22.5+ MB\n"
     ]
    }
   ],
   "source": [
    "df.info()"
   ]
  },
  {
   "cell_type": "code",
   "execution_count": 5,
   "id": "82040a0f",
   "metadata": {},
   "outputs": [
    {
     "data": {
      "text/plain": [
       "year_of_reference     65245\n",
       "month_of_reference    65245\n",
       "fipe_code             65245\n",
       "authentication        65245\n",
       "brand                 65245\n",
       "model                 65245\n",
       "fuel                  65245\n",
       "gear                  65245\n",
       "engine_size           65245\n",
       "year_model            65245\n",
       "avg_price_brl         65245\n",
       "dtype: int64"
      ]
     },
     "execution_count": 5,
     "metadata": {},
     "output_type": "execute_result"
    }
   ],
   "source": [
    "df.isnull().sum()"
   ]
  },
  {
   "cell_type": "markdown",
   "id": "6efcadb8",
   "metadata": {},
   "source": [
    "### Tratando os valores nulos"
   ]
  },
  {
   "cell_type": "markdown",
   "id": "c6b5234e",
   "metadata": {},
   "source": [
    "Para descobrir como se agrupam os registros com valores nulos, decidiu-se comparar o total de linhas do dataset que possuem valores faltantes em quaisquer colunas com o total no qual todas as colunas estão com dados faltantes como visto a seguir:"
   ]
  },
  {
   "cell_type": "code",
   "execution_count": 6,
   "id": "321a074f",
   "metadata": {},
   "outputs": [
    {
     "name": "stdout",
     "output_type": "stream",
     "text": [
      "Linhas com valores faltantes em qualquer coluna: 65245\n",
      "Linhas com valores faltantes em todas as colunas: 65245\n"
     ]
    }
   ],
   "source": [
    "rows_with_null_any = df[df.isnull().any(axis=1)]\n",
    "rows_with_null_all = df[df.isnull().all(axis=1)]\n",
    "\n",
    "print(f\"Linhas com valores faltantes em qualquer coluna: {len(rows_with_null_any)}\")\n",
    "print(f\"Linhas com valores faltantes em todas as colunas: {len(rows_with_null_all)}\")\n"
   ]
  },
  {
   "cell_type": "markdown",
   "id": "75b32ef6",
   "metadata": {},
   "source": [
    "Vericado que os números são exatamente iguais, conclui-se que todas as entradas do dataset que possuem valores não preenchidos faltam valores para todas as colunas ao mesmo tempo. Consequentemente, a melhor decisão seria de remover essas linhas já que não haveria informação perdida com isso."
   ]
  },
  {
   "cell_type": "code",
   "execution_count": 7,
   "id": "e8edda17",
   "metadata": {},
   "outputs": [
    {
     "name": "stdout",
     "output_type": "stream",
     "text": [
      "Número de valores faltantes após a filtragem:  0\n"
     ]
    }
   ],
   "source": [
    "df_filtered = df.dropna()\n",
    "nan_count = df_filtered.isnull().sum().sum()\n",
    "print(\"Número de valores faltantes após a filtragem: \", nan_count)"
   ]
  },
  {
   "cell_type": "markdown",
   "id": "2492a24d",
   "metadata": {},
   "source": [
    "### Tratando as linhas duplicadas"
   ]
  },
  {
   "cell_type": "code",
   "execution_count": 8,
   "id": "7e24f778",
   "metadata": {},
   "outputs": [
    {
     "data": {
      "text/html": [
       "<div>\n",
       "<style scoped>\n",
       "    .dataframe tbody tr th:only-of-type {\n",
       "        vertical-align: middle;\n",
       "    }\n",
       "\n",
       "    .dataframe tbody tr th {\n",
       "        vertical-align: top;\n",
       "    }\n",
       "\n",
       "    .dataframe thead th {\n",
       "        text-align: right;\n",
       "    }\n",
       "</style>\n",
       "<table border=\"1\" class=\"dataframe\">\n",
       "  <thead>\n",
       "    <tr style=\"text-align: right;\">\n",
       "      <th></th>\n",
       "      <th>year_of_reference</th>\n",
       "      <th>month_of_reference</th>\n",
       "      <th>fipe_code</th>\n",
       "      <th>authentication</th>\n",
       "      <th>brand</th>\n",
       "      <th>model</th>\n",
       "      <th>fuel</th>\n",
       "      <th>gear</th>\n",
       "      <th>engine_size</th>\n",
       "      <th>year_model</th>\n",
       "      <th>avg_price_brl</th>\n",
       "    </tr>\n",
       "  </thead>\n",
       "  <tbody>\n",
       "    <tr>\n",
       "      <th>45791</th>\n",
       "      <td>2021.0</td>\n",
       "      <td>June</td>\n",
       "      <td>025232-8</td>\n",
       "      <td>5rtdwkpkpq5h</td>\n",
       "      <td>Renault</td>\n",
       "      <td>DUSTER OROCH Dyna. 2.0 Flex 16V Mec.</td>\n",
       "      <td>Gasoline</td>\n",
       "      <td>manual</td>\n",
       "      <td>2</td>\n",
       "      <td>2018.0</td>\n",
       "      <td>69893.0</td>\n",
       "    </tr>\n",
       "    <tr>\n",
       "      <th>45793</th>\n",
       "      <td>2021.0</td>\n",
       "      <td>June</td>\n",
       "      <td>025232-8</td>\n",
       "      <td>5rtdwkpkpq5h</td>\n",
       "      <td>Renault</td>\n",
       "      <td>DUSTER OROCH Dyna. 2.0 Flex 16V Mec.</td>\n",
       "      <td>Gasoline</td>\n",
       "      <td>manual</td>\n",
       "      <td>2</td>\n",
       "      <td>2018.0</td>\n",
       "      <td>69893.0</td>\n",
       "    </tr>\n",
       "    <tr>\n",
       "      <th>189895</th>\n",
       "      <td>2022.0</td>\n",
       "      <td>December</td>\n",
       "      <td>003296-4</td>\n",
       "      <td>3r6c277cnqcb</td>\n",
       "      <td>Ford</td>\n",
       "      <td>Ranger Limited 3.0 PSE 4x4 CD TB Diesel</td>\n",
       "      <td>Diesel</td>\n",
       "      <td>manual</td>\n",
       "      <td>3</td>\n",
       "      <td>2007.0</td>\n",
       "      <td>64638.0</td>\n",
       "    </tr>\n",
       "    <tr>\n",
       "      <th>189896</th>\n",
       "      <td>2022.0</td>\n",
       "      <td>December</td>\n",
       "      <td>003296-4</td>\n",
       "      <td>3r6c277cnqcb</td>\n",
       "      <td>Ford</td>\n",
       "      <td>Ranger Limited 3.0 PSE 4x4 CD TB Diesel</td>\n",
       "      <td>Diesel</td>\n",
       "      <td>manual</td>\n",
       "      <td>3</td>\n",
       "      <td>2007.0</td>\n",
       "      <td>64638.0</td>\n",
       "    </tr>\n",
       "  </tbody>\n",
       "</table>\n",
       "</div>"
      ],
      "text/plain": [
       "        year_of_reference month_of_reference fipe_code authentication  \\\n",
       "45791              2021.0               June  025232-8   5rtdwkpkpq5h   \n",
       "45793              2021.0               June  025232-8   5rtdwkpkpq5h   \n",
       "189895             2022.0           December  003296-4   3r6c277cnqcb   \n",
       "189896             2022.0           December  003296-4   3r6c277cnqcb   \n",
       "\n",
       "          brand                                    model      fuel    gear  \\\n",
       "45791   Renault     DUSTER OROCH Dyna. 2.0 Flex 16V Mec.  Gasoline  manual   \n",
       "45793   Renault     DUSTER OROCH Dyna. 2.0 Flex 16V Mec.  Gasoline  manual   \n",
       "189895     Ford  Ranger Limited 3.0 PSE 4x4 CD TB Diesel    Diesel  manual   \n",
       "189896     Ford  Ranger Limited 3.0 PSE 4x4 CD TB Diesel    Diesel  manual   \n",
       "\n",
       "       engine_size  year_model  avg_price_brl  \n",
       "45791            2      2018.0        69893.0  \n",
       "45793            2      2018.0        69893.0  \n",
       "189895           3      2007.0        64638.0  \n",
       "189896           3      2007.0        64638.0  "
      ]
     },
     "execution_count": 8,
     "metadata": {},
     "output_type": "execute_result"
    }
   ],
   "source": [
    "duplicated_rows = df_filtered[df_filtered.duplicated(keep=False)]\n",
    "duplicated_rows.head()"
   ]
  },
  {
   "cell_type": "code",
   "execution_count": 9,
   "id": "d883fd1d",
   "metadata": {},
   "outputs": [
    {
     "name": "stdout",
     "output_type": "stream",
     "text": [
      "Número de linhas duplicadas:  4\n"
     ]
    }
   ],
   "source": [
    "print(\"Número de linhas duplicadas: \", len(duplicated_rows))"
   ]
  },
  {
   "cell_type": "markdown",
   "id": "68589ab1",
   "metadata": {},
   "source": [
    "Observando a coluna \"authentication\", nota-se se que seus valores deveriam representar valores únicos de cada carro registrado no dataset. Assim, ao ver que as linhas duplicadas são justamente as únicas em que os dados dessa coluna se repetem, confirma-se que essas linhas realmente devem ter sido repetidas por engano, deste modo, devem ser removidas do estudo."
   ]
  },
  {
   "cell_type": "code",
   "execution_count": 10,
   "id": "d8db2a52",
   "metadata": {},
   "outputs": [
    {
     "name": "stdout",
     "output_type": "stream",
     "text": [
      "Total de linhas duplicadas: 4\n"
     ]
    }
   ],
   "source": [
    "duplicates = df_filtered['authentication'].duplicated(keep=False).sum()\n",
    "print(\"Total de linhas duplicadas:\", duplicates)"
   ]
  },
  {
   "cell_type": "code",
   "execution_count": 11,
   "id": "d3e5ec4b",
   "metadata": {},
   "outputs": [
    {
     "name": "stdout",
     "output_type": "stream",
     "text": [
      "Total de linhas pré-remoção: 202297\n",
      "Total pós-remoção: 202295\n"
     ]
    },
    {
     "name": "stderr",
     "output_type": "stream",
     "text": [
      "/var/folders/y8/rfm38z_x3693zpsbvthdb2bw0000gp/T/ipykernel_63816/3178670003.py:2: SettingWithCopyWarning: \n",
      "A value is trying to be set on a copy of a slice from a DataFrame\n",
      "\n",
      "See the caveats in the documentation: https://pandas.pydata.org/pandas-docs/stable/user_guide/indexing.html#returning-a-view-versus-a-copy\n",
      "  df_filtered.drop_duplicates(inplace=True)\n"
     ]
    }
   ],
   "source": [
    "print(\"Total de linhas pré-remoção:\", len(df_filtered))\n",
    "df_filtered.drop_duplicates(inplace=True)\n",
    "print(\"Total pós-remoção:\", len(df_filtered))"
   ]
  },
  {
   "cell_type": "markdown",
   "id": "6b8af819",
   "metadata": {},
   "source": [
    "### Estatísticas descritivas do dataset"
   ]
  },
  {
   "cell_type": "markdown",
   "id": "d4e7048f",
   "metadata": {},
   "source": [
    "Na análise dos dados numéricos, observa-se que\n",
    "- Os anos dos modelos de carro registrados começam a partir de 2000 em uma distribuição centrada em 2012 e com 50% dos registros se concentrando entre 2006 e 2016.\n",
    "- O preço médio em reais de todos os carros registrados é de 53 mil; porém, metade dos valores registrados fica abaixo de 38 mil. Além disso, um desvio padrão tão próximo do valor médio sugere uma distribuição com forte característica de uniformidade."
   ]
  },
  {
   "cell_type": "code",
   "execution_count": 12,
   "id": "a503d638",
   "metadata": {},
   "outputs": [
    {
     "data": {
      "text/html": [
       "<div>\n",
       "<style scoped>\n",
       "    .dataframe tbody tr th:only-of-type {\n",
       "        vertical-align: middle;\n",
       "    }\n",
       "\n",
       "    .dataframe tbody tr th {\n",
       "        vertical-align: top;\n",
       "    }\n",
       "\n",
       "    .dataframe thead th {\n",
       "        text-align: right;\n",
       "    }\n",
       "</style>\n",
       "<table border=\"1\" class=\"dataframe\">\n",
       "  <thead>\n",
       "    <tr style=\"text-align: right;\">\n",
       "      <th></th>\n",
       "      <th>year_of_reference</th>\n",
       "      <th>year_model</th>\n",
       "      <th>avg_price_brl</th>\n",
       "    </tr>\n",
       "  </thead>\n",
       "  <tbody>\n",
       "    <tr>\n",
       "      <th>count</th>\n",
       "      <td>202295.000000</td>\n",
       "      <td>202295.000000</td>\n",
       "      <td>202295.000000</td>\n",
       "    </tr>\n",
       "    <tr>\n",
       "      <th>mean</th>\n",
       "      <td>2021.564695</td>\n",
       "      <td>2011.271514</td>\n",
       "      <td>52756.765713</td>\n",
       "    </tr>\n",
       "    <tr>\n",
       "      <th>std</th>\n",
       "      <td>0.571904</td>\n",
       "      <td>6.376241</td>\n",
       "      <td>51628.912116</td>\n",
       "    </tr>\n",
       "    <tr>\n",
       "      <th>min</th>\n",
       "      <td>2021.000000</td>\n",
       "      <td>2000.000000</td>\n",
       "      <td>6647.000000</td>\n",
       "    </tr>\n",
       "    <tr>\n",
       "      <th>25%</th>\n",
       "      <td>2021.000000</td>\n",
       "      <td>2006.000000</td>\n",
       "      <td>22855.000000</td>\n",
       "    </tr>\n",
       "    <tr>\n",
       "      <th>50%</th>\n",
       "      <td>2022.000000</td>\n",
       "      <td>2012.000000</td>\n",
       "      <td>38027.000000</td>\n",
       "    </tr>\n",
       "    <tr>\n",
       "      <th>75%</th>\n",
       "      <td>2022.000000</td>\n",
       "      <td>2016.000000</td>\n",
       "      <td>64064.000000</td>\n",
       "    </tr>\n",
       "    <tr>\n",
       "      <th>max</th>\n",
       "      <td>2023.000000</td>\n",
       "      <td>2023.000000</td>\n",
       "      <td>979358.000000</td>\n",
       "    </tr>\n",
       "  </tbody>\n",
       "</table>\n",
       "</div>"
      ],
      "text/plain": [
       "       year_of_reference     year_model  avg_price_brl\n",
       "count      202295.000000  202295.000000  202295.000000\n",
       "mean         2021.564695    2011.271514   52756.765713\n",
       "std             0.571904       6.376241   51628.912116\n",
       "min          2021.000000    2000.000000    6647.000000\n",
       "25%          2021.000000    2006.000000   22855.000000\n",
       "50%          2022.000000    2012.000000   38027.000000\n",
       "75%          2022.000000    2016.000000   64064.000000\n",
       "max          2023.000000    2023.000000  979358.000000"
      ]
     },
     "execution_count": 12,
     "metadata": {},
     "output_type": "execute_result"
    }
   ],
   "source": [
    "df_filtered.describe()"
   ]
  },
  {
   "cell_type": "markdown",
   "id": "8f1874e8",
   "metadata": {},
   "source": [
    "No agrupamento entre as categorias de câmbio, pode-se perceber que o número de carros manuais é quatro vezes o de automáticos."
   ]
  },
  {
   "cell_type": "code",
   "execution_count": 13,
   "id": "4b57c2aa",
   "metadata": {},
   "outputs": [
    {
     "name": "stdout",
     "output_type": "stream",
     "text": [
      "Contagem do agrupamento por gear\n"
     ]
    },
    {
     "data": {
      "text/plain": [
       "gear\n",
       "manual       161883\n",
       "automatic     40412\n",
       "Name: authentication, dtype: int64"
      ]
     },
     "execution_count": 13,
     "metadata": {},
     "output_type": "execute_result"
    }
   ],
   "source": [
    "print('Contagem do agrupamento por gear')\n",
    "df_filtered.groupby('gear')['authentication'].count().sort_values(ascending=False)"
   ]
  },
  {
   "cell_type": "markdown",
   "id": "7636d127",
   "metadata": {},
   "source": [
    "Já a contagem de classes de combustível indica que a gasolina tem ampla vantagem frente ao diesel (5,6x), que, por sua vez, tem aproximadamente oito vezes o número de carros a álcool."
   ]
  },
  {
   "cell_type": "code",
   "execution_count": 14,
   "id": "d790facb",
   "metadata": {},
   "outputs": [
    {
     "name": "stdout",
     "output_type": "stream",
     "text": [
      "Contagem do agrupamento por fuel\n"
     ]
    },
    {
     "data": {
      "text/plain": [
       "fuel\n",
       "Gasoline    168684\n",
       "Diesel       30098\n",
       "Alcohol       3513\n",
       "Name: authentication, dtype: int64"
      ]
     },
     "execution_count": 14,
     "metadata": {},
     "output_type": "execute_result"
    }
   ],
   "source": [
    "print('Contagem do agrupamento por fuel')\n",
    "df_filtered.groupby('fuel')['authentication'].count().sort_values(ascending=False)"
   ]
  },
  {
   "cell_type": "markdown",
   "id": "4bd130b9",
   "metadata": {},
   "source": [
    "Quanto às marcas dos veículos, seis montadoras foram encontradas com Fiat liderando e VolksWagen logo em seguida. Chevrolet, Ford e Renault também representam uma quantidade significativa, sendo a Nissan a menos comum dentre as registradas."
   ]
  },
  {
   "cell_type": "code",
   "execution_count": 15,
   "id": "ed031daf",
   "metadata": {},
   "outputs": [
    {
     "name": "stdout",
     "output_type": "stream",
     "text": [
      "Contagem do agrupamento por brand\n"
     ]
    },
    {
     "data": {
      "text/plain": [
       "brand\n",
       "Fiat               44962\n",
       "VW - VolksWagen    44312\n",
       "GM - Chevrolet     38590\n",
       "Ford               33150\n",
       "Renault            29191\n",
       "Nissan             12090\n",
       "Name: authentication, dtype: int64"
      ]
     },
     "execution_count": 15,
     "metadata": {},
     "output_type": "execute_result"
    }
   ],
   "source": [
    "print('Contagem do agrupamento por brand')\n",
    "df_filtered.groupby('brand')['authentication'].count().sort_values(ascending=False)"
   ]
  },
  {
   "cell_type": "markdown",
   "id": "a69d4ba8",
   "metadata": {},
   "source": [
    "Quando feito um agrupamento dos dados pelo ano de referência na tabela e o câmbio nesta ordem e calculada a média dos preços por categoria, observa-se que, ano a ano, tanto carros automáticos quanto manuais ficaram mais caros no Brasil."
   ]
  },
  {
   "cell_type": "code",
   "execution_count": 16,
   "id": "5176064d",
   "metadata": {},
   "outputs": [
    {
     "data": {
      "text/plain": [
       "year_of_reference  gear     \n",
       "2021.0             automatic    73884.774935\n",
       "                   manual       41129.769654\n",
       "2022.0             automatic    88884.880775\n",
       "                   manual       49394.834204\n",
       "2023.0             automatic    89758.728127\n",
       "                   manual       50219.819368\n",
       "Name: avg_price_brl, dtype: float64"
      ]
     },
     "execution_count": 16,
     "metadata": {},
     "output_type": "execute_result"
    }
   ],
   "source": [
    "aggregate_series = df_filtered.groupby(['year_of_reference','gear'])['avg_price_brl'].mean().sort_index(ascending=True)\n",
    "aggregate_series"
   ]
  },
  {
   "cell_type": "markdown",
   "id": "1f05671b",
   "metadata": {},
   "source": [
    "Separando a tabela MultiIndex entre a de carros manuais e a de automáticos e calculando a diferença percentual entre nas vendas de cada tipo de um ano para outro, observa-se que um crescimento de aproximadamente 20% nos preços médios de ambos tipos de 2021 para 2022. <br>\n",
    "Por outro lado, de 2022 para 2023, a média de preços de carros automáticos subiu em torno de 1%, enquanto a de manuais aumentou 1,7%, porém essa pequena variação pode ter influência no fato de haver apenas 1 mês de registros no último ano. "
   ]
  },
  {
   "cell_type": "code",
   "execution_count": 17,
   "id": "1e74d32a",
   "metadata": {},
   "outputs": [],
   "source": [
    "automatic_avg = aggregate_series.swaplevel().loc['automatic']\n",
    "manual_avg = aggregate_series.swaplevel().loc['manual']"
   ]
  },
  {
   "cell_type": "code",
   "execution_count": 18,
   "id": "f81b4b6b",
   "metadata": {},
   "outputs": [
    {
     "data": {
      "text/plain": [
       "year_of_reference\n",
       "2022.0    0.203020\n",
       "2023.0    0.009831\n",
       "Name: avg_price_brl, dtype: float64"
      ]
     },
     "execution_count": 18,
     "metadata": {},
     "output_type": "execute_result"
    }
   ],
   "source": [
    "automatic_avg.pct_change().dropna()"
   ]
  },
  {
   "cell_type": "code",
   "execution_count": 19,
   "id": "dc77b7b0",
   "metadata": {},
   "outputs": [
    {
     "data": {
      "text/plain": [
       "year_of_reference\n",
       "2022.0    0.200951\n",
       "2023.0    0.016702\n",
       "Name: avg_price_brl, dtype: float64"
      ]
     },
     "execution_count": 19,
     "metadata": {},
     "output_type": "execute_result"
    }
   ],
   "source": [
    "manual_avg.pct_change().dropna()"
   ]
  },
  {
   "cell_type": "markdown",
   "id": "e2ca248a",
   "metadata": {},
   "source": [
    "### Insights sobre os dados "
   ]
  },
  {
   "cell_type": "markdown",
   "id": "b9656108",
   "metadata": {},
   "source": [
    "- O número de carros manuais vendidos no Brasil no período observado (2021 a Jan/23) ainda é 4x o número de carros automáticos.\n",
    "- A gasolina é o combustível mais comumente usado entre os carros comercializados; o diesel é o segundo, enquanto o álcool é o terceiro.\n",
    "- A Fiat é a marca líder de vendas seguida de perto pela VolksWagen, enquanto a Nissan é a que menos aparece no dataset.\n",
    "- A média de preço dos carros de câmbio automático é bem superior à dos manuais, porém ambas subiram em 20% de 2021 a 2022."
   ]
  },
  {
   "cell_type": "markdown",
   "id": "88addbbb",
   "metadata": {},
   "source": [
    "## Parte 2"
   ]
  },
  {
   "cell_type": "markdown",
   "id": "2e2ec9e0",
   "metadata": {},
   "source": [
    "### Gráfico da distribuição da quantidade de carros por marca:"
   ]
  },
  {
   "cell_type": "code",
   "execution_count": 20,
   "id": "4fe52f47",
   "metadata": {},
   "outputs": [],
   "source": [
    "import matplotlib.pyplot as plt"
   ]
  },
  {
   "cell_type": "code",
   "execution_count": 21,
   "id": "564be5d8",
   "metadata": {},
   "outputs": [
    {
     "data": {
      "text/plain": [
       "Text(0.5, 1.0, 'Quantidade de carros vendidos por marca')"
      ]
     },
     "execution_count": 21,
     "metadata": {},
     "output_type": "execute_result"
    },
    {
     "data": {
      "image/png": "[encoded data removed]",
      "text/plain": [
       "<Figure size 640x480 with 1 Axes>"
      ]
     },
     "metadata": {},
     "output_type": "display_data"
    }
   ],
   "source": [
    "df_gb_brand = df_filtered.groupby('brand')['authentication'].count()\n",
    "df_gb_brand.rename(index={\"VW - VolksWagen\":\"VolksWagen\", \"GM - Chevrolet\":\"Chevrolet\"}, inplace=True)\n",
    "colors = plt.get_cmap('plasma',len(df_gb_brand)).colors\n",
    "plt.bar(df_gb_brand.index, df_gb_brand.values, color=colors)\n",
    "plt.title(\"Quantidade de carros vendidos por marca\")"
   ]
  },
  {
   "cell_type": "markdown",
   "id": "16368412",
   "metadata": {},
   "source": [
    "### Gráfico da distribuição da quantidade de carros por tipo de câmbio:"
   ]
  },
  {
   "cell_type": "code",
   "execution_count": 22,
   "id": "8c87baeb",
   "metadata": {},
   "outputs": [
    {
     "data": {
      "text/plain": [
       "Text(0.5, 1.0, 'Quantidade de carros vendidos por tipo de câmbio')"
      ]
     },
     "execution_count": 22,
     "metadata": {},
     "output_type": "execute_result"
    },
    {
     "data": {
      "image/png": "[encoded data removed]",
      "text/plain": [
       "<Figure size 640x480 with 1 Axes>"
      ]
     },
     "metadata": {},
     "output_type": "display_data"
    }
   ],
   "source": [
    "df_gb_gear = df_filtered.groupby('gear')['authentication'].count()\n",
    "colors = plt.get_cmap('plasma',len(df_gb_gear)).colors\n",
    "plt.bar(df_gb_gear.index, df_gb_gear.values, color=colors)\n",
    "plt.title(\"Quantidade de carros vendidos por tipo de câmbio\")"
   ]
  },
  {
   "cell_type": "markdown",
   "id": "576675a4",
   "metadata": {},
   "source": [
    "### Gráfico da evolução da média de preço dos carros ao longo de 2022:"
   ]
  },
  {
   "cell_type": "code",
   "execution_count": 30,
   "id": "b37e4137",
   "metadata": {},
   "outputs": [
    {
     "data": {
      "text/plain": [
       "month_of_reference\n",
       "April        57150.037325\n",
       "August       57923.544105\n",
       "December     57997.243992\n",
       "February     55824.519882\n",
       "January      54840.270037\n",
       "July         57893.997056\n",
       "June         58065.611398\n",
       "March        56848.951914\n",
       "May          57799.763776\n",
       "November     58215.626236\n",
       "October      58227.410144\n",
       "September    58198.936989\n",
       "Name: avg_price_brl, dtype: float64"
      ]
     },
     "execution_count": 30,
     "metadata": {},
     "output_type": "execute_result"
    }
   ],
   "source": [
    "df_grouped_month = df_filtered.loc[df_filtered['year_of_reference'] == 2022].groupby(['month_of_reference'])['avg_price_brl'].mean()\n",
    "df_grouped_month"
   ]
  },
  {
   "cell_type": "markdown",
   "id": "d0f1cb59",
   "metadata": {},
   "source": [
    "Renomeando os indíces da series e os reordenando de janeiro a dezembro."
   ]
  },
  {
   "cell_type": "code",
   "execution_count": 32,
   "id": "2135d780",
   "metadata": {},
   "outputs": [],
   "source": [
    "df_grouped_month.rename(index=lambda x: x[:3], inplace=True)\n",
    "new_order = ['Jan', 'Feb', 'Mar', 'Apr', 'May', 'Jun', 'Jul', 'Aug', 'Sep', 'Oct', 'Nov', 'Dec']\n",
    "df_grouped_month = df_grouped_month.reindex(new_order)"
   ]
  },
  {
   "cell_type": "code",
   "execution_count": 35,
   "id": "fcd5f5c6",
   "metadata": {},
   "outputs": [
    {
     "data": {
      "text/plain": [
       "Text(0.5, 1.0, 'Evolução da média de preço dos carros em 2022')"
      ]
     },
     "execution_count": 35,
     "metadata": {},
     "output_type": "execute_result"
    },
    {
     "data": {
      "image/png": "[encoded data removed]",
      "text/plain": [
       "<Figure size 640x480 with 1 Axes>"
      ]
     },
     "metadata": {},
     "output_type": "display_data"
    }
   ],
   "source": [
    "colors = plt.get_cmap('plasma',len(df_grouped_month)).colors\n",
    "plt.bar(df_grouped_month.index, df_grouped_month.values, color=colors)\n",
    "plt.title(\"Evolução da média de preço dos carros em 2022\")"
   ]
  },
  {
   "cell_type": "markdown",
   "id": "8f638d19",
   "metadata": {},
   "source": [
    "Observa-se que, em 2022, a média de preços ficou bem estável ao longo do ano, em torno de R$ 58 mil e com uma leve redução nos primeiros meses do ano.\n",
    "Um fator que poderia explicar essa ocorrência seria a incidência da impostos cobrada comumente no início do ano, o que poderia fazer com que alguns vendedores baixassem o preço dos seus automóveis para repassar a diferença através do imposto para os compradores."
   ]
  },
  {
   "cell_type": "markdown",
   "id": "0f7c0a8a",
   "metadata": {},
   "source": [
    "### Gráfico da distribuição da média de preços por marca e engrenagem:"
   ]
  },
  {
   "cell_type": "code",
   "execution_count": 37,
   "id": "07656335",
   "metadata": {},
   "outputs": [
    {
     "data": {
      "text/plain": [
       "brand            gear     \n",
       "Fiat             automatic    97396.801936\n",
       "                 manual       39694.442749\n",
       "Ford             automatic    84769.106720\n",
       "                 manual       51784.334861\n",
       "GM - Chevrolet   automatic    88156.919439\n",
       "                 manual       52119.422129\n",
       "Nissan           automatic    94230.600604\n",
       "                 manual       52680.623596\n",
       "Renault          automatic    44028.007521\n",
       "                 manual       47648.795606\n",
       "VW - VolksWagen  automatic    99734.979181\n",
       "                 manual       40390.327451\n",
       "Name: avg_price_brl, dtype: float64"
      ]
     },
     "execution_count": 37,
     "metadata": {},
     "output_type": "execute_result"
    }
   ],
   "source": [
    "df_grouped_brand_gear = df_filtered.groupby(['brand','gear'])['avg_price_brl'].mean()\n",
    "df_grouped_brand_gear"
   ]
  },
  {
   "cell_type": "code",
   "execution_count": null,
   "id": "ac80e076",
   "metadata": {},
   "outputs": [
    {
     "data": {
      "text/plain": [
       "Text(0.5, 1.0, 'Média de preços por marca e câmbio')"
      ]
     },
     "execution_count": 41,
     "metadata": {},
     "output_type": "execute_result"
    },
    {
     "data": {
      "image/png": "[encoded data removed]",
      "text/plain": [
       "<Figure size 640x480 with 1 Axes>"
      ]
     },
     "metadata": {},
     "output_type": "display_data"
    }
   ],
   "source": [
    "df_grouped_brand_gear_unstacked = df_grouped_brand_gear.unstack()\n",
    "df_grouped_brand_gear_unstacked.rename(index={\"VW - VolksWagen\":\"VolksWagen\", \"GM - Chevrolet\":\"Chevrolet\"}, inplace=True)\n",
    "df_grouped_brand_gear_unstacked.plot(kind='bar')\n",
    "plt.title(\"Média de preços por marca e câmbio\")"
   ]
  },
  {
   "cell_type": "markdown",
   "id": "3b66ccda",
   "metadata": {},
   "source": [
    "Análise gráfica, permite observar que\n",
    "- A Renault é a única marca cuja média de preço de carros manuais foi superior à de automáticos\n",
    "- Fiat e Volkswagen apresentaram a maior disparidade entre as médias preços de carros automáticos e manuais"
   ]
  },
  {
   "cell_type": "markdown",
   "id": "c00c9153",
   "metadata": {},
   "source": [
    "### Gráfico da distribuição das médias de preço por marca e combustível:"
   ]
  },
  {
   "cell_type": "code",
   "execution_count": 42,
   "id": "e17874e5",
   "metadata": {},
   "outputs": [
    {
     "data": {
      "text/plain": [
       "brand            fuel    \n",
       "Fiat             Alcohol      11509.514419\n",
       "                 Diesel       99814.451429\n",
       "                 Gasoline     37197.294483\n",
       "Ford             Alcohol      10148.906667\n",
       "                 Diesel       94525.533794\n",
       "                 Gasoline     45844.524969\n",
       "GM - Chevrolet   Alcohol      13697.717687\n",
       "                 Diesel       99817.318601\n",
       "                 Gasoline     56497.127255\n",
       "Nissan           Diesel       95534.071529\n",
       "                 Gasoline     59043.288090\n",
       "Renault          Diesel      104529.925499\n",
       "                 Gasoline     37058.005993\n",
       "VW - VolksWagen  Alcohol      13392.684507\n",
       "                 Diesel      139216.276328\n",
       "                 Gasoline     44653.797430\n",
       "Name: avg_price_brl, dtype: float64"
      ]
     },
     "execution_count": 42,
     "metadata": {},
     "output_type": "execute_result"
    }
   ],
   "source": [
    "df_gb_brand_fuel = df_filtered.groupby(['brand','fuel'])['avg_price_brl'].mean()\n",
    "df_grouped_brand_gear"
   ]
  },
  {
   "cell_type": "code",
   "execution_count": 43,
   "id": "6de51dd8",
   "metadata": {},
   "outputs": [
    {
     "data": {
      "text/plain": [
       "Text(0.5, 1.0, 'Média de preços por marca e tipo de combustível')"
      ]
     },
     "execution_count": 43,
     "metadata": {},
     "output_type": "execute_result"
    },
    {
     "data": {
      "image/png": "[encoded data removed]",
      "text/plain": [
       "<Figure size 640x480 with 1 Axes>"
      ]
     },
     "metadata": {},
     "output_type": "display_data"
    }
   ],
   "source": [
    "df_grouped_brand_gear_unstacked = df_grouped_brand_gear.unstack()\n",
    "df_grouped_brand_gear_unstacked.rename(index={\"VW - VolksWagen\":\"VolksWagen\", \"GM - Chevrolet\":\"Chevrolet\"}, inplace=True)\n",
    "df_grouped_brand_gear_unstacked.plot(kind='bar')\n",
    "plt.title(\"Média de preços por marca e tipo de combustível\")"
   ]
  },
  {
   "cell_type": "markdown",
   "id": "ec3ffa5b",
   "metadata": {},
   "source": [
    "É possível notar no gráfico acima que\n",
    "- Os preços de carros a diesel são bastante estáveis entre as marcas com exceção da Volkswagen, que tem valores consideravelmente mais elevados.\n",
    "- A Nissan e a Renault aparentemente não tiveram carros a álcool comercializados dentro do período observado.\n",
    "- Nissan, Chevrolet e Ford, nessa ordem, são as montadores com a menor diferença média de preços entre carros a gasolina e a diesel. Mesmo assim, essa diferença continua significativa."
   ]
  }
 ],
 "metadata": {
  "kernelspec": {
   "display_name": "pgd_venv",
   "language": "python",
   "name": "python3"
  },
  "language_info": {
   "codemirror_mode": {
    "name": "ipython",
    "version": 3
   },
   "file_extension": ".py",
   "mimetype": "text/x-python",
   "name": "python",
   "nbconvert_exporter": "python",
   "pygments_lexer": "ipython3",
   "version": "3.9.6"
  }
 },
 "nbformat": 4,
 "nbformat_minor": 5
}
